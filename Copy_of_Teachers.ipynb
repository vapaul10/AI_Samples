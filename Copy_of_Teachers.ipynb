{
  "nbformat": 4,
  "nbformat_minor": 0,
  "metadata": {
    "colab": {
      "provenance": [],
      "authorship_tag": "ABX9TyOjGgqK1/+XnLOGmmp7yMRg",
      "include_colab_link": true
    },
    "kernelspec": {
      "name": "python3",
      "display_name": "Python 3"
    },
    "language_info": {
      "name": "python"
    }
  },
  "cells": [
    {
      "cell_type": "markdown",
      "metadata": {
        "id": "view-in-github",
        "colab_type": "text"
      },
      "source": [
        "<a href=\"https://colab.research.google.com/github/vapaul10/AI_Samples/blob/main/Copy_of_Teachers.ipynb\" target=\"_parent\"><img src=\"https://colab.research.google.com/assets/colab-badge.svg\" alt=\"Open In Colab\"/></a>"
      ]
    },
    {
      "cell_type": "code",
      "execution_count": 8,
      "metadata": {
        "id": "ubAhTlsxBx4L",
        "colab": {
          "base_uri": "https://localhost:8080/"
        },
        "outputId": "0ae42213-0353-4305-8fe2-1daf8fa696a0"
      },
      "outputs": [
        {
          "output_type": "stream",
          "name": "stdout",
          "text": [
            "                                                            \n",
            "                                                            \n",
            "                                                            \n",
            "                er Teache           eacher Te               \n",
            "            acher Teacher Tea   r Teacher Teacher           \n",
            "          eacher Teacher Teacher Teacher Teacher Te         \n",
            "         eacher Teacher Teacher Teacher Teacher Teac        \n",
            "        eacher Teacher Teacher Teacher Teacher Teache       \n",
            "        acher Teacher Teacher Teacher Teacher Teacher       \n",
            "        cher Teacher Teacher Teacher Teacher Teacher        \n",
            "        her Teacher Teacher Teacher Teacher Teacher T       \n",
            "        er Teacher Teacher Teacher Teacher Teacher Te       \n",
            "        r Teacher Teacher Teacher Teacher Teacher Tea       \n",
            "         Teacher Teacher Teacher Teacher Teacher Tea        \n",
            "          acher Teacher Teacher Teacher Teacher Tea         \n",
            "          cher Teacher Teacher Teacher Teacher Teac         \n",
            "            r Teacher Teacher Teacher Teacher Tea           \n",
            "             Teacher Teacher Teacher Teacher Tea            \n",
            "              acher Teacher Teacher Teacher Tea             \n",
            "                er Teacher Teacher Teacher Te               \n",
            "                  Teacher Teacher Teacher T                 \n",
            "                    cher Teacher Teacher                    \n",
            "                        Teacher Teache                      \n",
            "                          cher Teac                         \n",
            "                              Te                            \n",
            "                              e                             \n",
            "                                                            \n",
            "                                                            \n",
            "                                                            \n",
            "                                                            \n"
          ]
        }
      ],
      "source": [
        "#Teacher repeats in Shape of Heart\n",
        "print('\\n' .join\n",
        " (['' .join\n",
        "  ([(' Teacher'[(x-y)%8]\n",
        "     if((x*0.05)**2+(y*0.1)**2-1)\n",
        "      **3-(x*0.05)**2*(y*0.1)\n",
        "       **3<=0 else' ')\n",
        "  for x in range(-30,30)])\n",
        "  for y in range(15,-15, -1)]))"
      ]
    }
  ]
}