{
  "cells": [
    {
      "cell_type": "markdown",
      "metadata": {
        "id": "view-in-github",
        "colab_type": "text"
      },
      "source": [
        "<a href=\"https://colab.research.google.com/github/vapaul10/AI_Samples/blob/main/Lesson8_Handle_Exceptions.ipynb\" target=\"_parent\"><img src=\"https://colab.research.google.com/assets/colab-badge.svg\" alt=\"Open In Colab\"/></a>"
      ]
    },
    {
      "cell_type": "code",
      "execution_count": null,
      "id": "e39a908b",
      "metadata": {
        "id": "e39a908b"
      },
      "outputs": [],
      "source": [
        "###Lesson8_Handle_Exceptions_module"
      ]
    },
    {
      "cell_type": "code",
      "execution_count": null,
      "id": "6a62d42e",
      "metadata": {
        "id": "6a62d42e"
      },
      "outputs": [],
      "source": [
        "from exceptional import convert"
      ]
    },
    {
      "cell_type": "markdown",
      "source": [],
      "metadata": {
        "id": "mpELWz96GS7A"
      },
      "id": "mpELWz96GS7A"
    },
    {
      "cell_type": "code",
      "execution_count": null,
      "id": "6b5d9e50",
      "metadata": {
        "colab": {
          "base_uri": "https://localhost:8080/"
        },
        "id": "6b5d9e50",
        "outputId": "f7f1fc9d-7060-4e32-91ec-7b2d2a35c67e"
      },
      "outputs": [
        {
          "output_type": "stream",
          "name": "stdout",
          "text": [
            "Conversion succeeded! x = 34\n"
          ]
        }
      ],
      "source": [
        "convert(\"three four\".split())"
      ]
    },
    {
      "cell_type": "code",
      "execution_count": null,
      "id": "9aaa01e7",
      "metadata": {
        "colab": {
          "base_uri": "https://localhost:8080/"
        },
        "id": "9aaa01e7",
        "outputId": "c077be91-939e-48ec-dddc-6e55c1345e0e"
      },
      "outputs": [
        {
          "output_type": "stream",
          "name": "stdout",
          "text": [
            "Conversion failed!\n"
          ]
        },
        {
          "output_type": "execute_result",
          "data": {
            "text/plain": [
              "-1"
            ]
          },
          "metadata": {},
          "execution_count": 9
        }
      ],
      "source": [
        "convert(\"eleventeen\".split())"
      ]
    },
    {
      "cell_type": "code",
      "execution_count": null,
      "id": "88245dba",
      "metadata": {
        "colab": {
          "base_uri": "https://localhost:8080/"
        },
        "id": "88245dba",
        "outputId": "0d684866-40d3-42cb-c9aa-87eb7bea93a1"
      },
      "outputs": [
        {
          "output_type": "stream",
          "name": "stdout",
          "text": [
            "Conversion failed!\n"
          ]
        },
        {
          "output_type": "execute_result",
          "data": {
            "text/plain": [
              "-1"
            ]
          },
          "metadata": {},
          "execution_count": 10
        }
      ],
      "source": [
        "convert(512)"
      ]
    },
    {
      "cell_type": "code",
      "source": [
        "convert(\"two nine\".split())"
      ],
      "metadata": {
        "colab": {
          "base_uri": "https://localhost:8080/"
        },
        "id": "RaC2UscSGT55",
        "outputId": "9909b4de-ce45-4023-d383-6eebcc20fd82"
      },
      "id": "RaC2UscSGT55",
      "execution_count": null,
      "outputs": [
        {
          "output_type": "stream",
          "name": "stdout",
          "text": [
            "Conversion succeeded! x = 29\n"
          ]
        }
      ]
    },
    {
      "cell_type": "code",
      "source": [
        "convert(\"elephant\".split())"
      ],
      "metadata": {
        "colab": {
          "base_uri": "https://localhost:8080/"
        },
        "id": "-TvHYNuOGcSP",
        "outputId": "5a41cae0-b4d6-47bf-c8fc-97aaa7964a02"
      },
      "id": "-TvHYNuOGcSP",
      "execution_count": null,
      "outputs": [
        {
          "output_type": "stream",
          "name": "stdout",
          "text": [
            "Conversion failed!\n"
          ]
        },
        {
          "output_type": "execute_result",
          "data": {
            "text/plain": [
              "-1"
            ]
          },
          "metadata": {},
          "execution_count": 12
        }
      ]
    },
    {
      "cell_type": "code",
      "source": [
        "convert(451)"
      ],
      "metadata": {
        "id": "eYW_tSVAGniA",
        "outputId": "8908a356-9054-426b-aba5-0559d3e37da4",
        "colab": {
          "base_uri": "https://localhost:8080/"
        }
      },
      "id": "eYW_tSVAGniA",
      "execution_count": null,
      "outputs": [
        {
          "output_type": "stream",
          "name": "stdout",
          "text": [
            "Conversion failed!\n"
          ]
        },
        {
          "output_type": "execute_result",
          "data": {
            "text/plain": [
              "-1"
            ]
          },
          "metadata": {},
          "execution_count": 13
        }
      ]
    }
  ],
  "metadata": {
    "kernelspec": {
      "display_name": "Python 3 (ipykernel)",
      "language": "python",
      "name": "python3"
    },
    "language_info": {
      "codemirror_mode": {
        "name": "ipython",
        "version": 3
      },
      "file_extension": ".py",
      "mimetype": "text/x-python",
      "name": "python",
      "nbconvert_exporter": "python",
      "pygments_lexer": "ipython3",
      "version": "3.9.12"
    },
    "colab": {
      "provenance": [],
      "include_colab_link": true
    }
  },
  "nbformat": 4,
  "nbformat_minor": 5
}