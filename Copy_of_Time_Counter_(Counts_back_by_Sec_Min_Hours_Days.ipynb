{
  "nbformat": 4,
  "nbformat_minor": 0,
  "metadata": {
    "colab": {
      "provenance": [],
      "authorship_tag": "ABX9TyNr9BSfatRKfOaY2d1fSgj7",
      "include_colab_link": true
    },
    "kernelspec": {
      "name": "python3",
      "display_name": "Python 3"
    },
    "language_info": {
      "name": "python"
    }
  },
  "cells": [
    {
      "cell_type": "markdown",
      "metadata": {
        "id": "view-in-github",
        "colab_type": "text"
      },
      "source": [
        "<a href=\"https://colab.research.google.com/github/vapaul10/AI_Samples/blob/main/Copy_of_Time_Counter_(Counts_back_by_Sec_Min_Hours_Days.ipynb\" target=\"_parent\"><img src=\"https://colab.research.google.com/assets/colab-badge.svg\" alt=\"Open In Colab\"/></a>"
      ]
    },
    {
      "cell_type": "code",
      "execution_count": null,
      "metadata": {
        "id": "j9UWNFAXRsnT"
      },
      "outputs": [],
      "source": [
        "## Timer that can  Countdown\n",
        "## captured from Bro Code's YouTube video https://www.youtube.com/watch?v=KseiSR0MCTI"
      ]
    },
    {
      "cell_type": "code",
      "source": [
        "\"\"\" This a timer that counts down by days.\n",
        "Also, hashtagged out are formulas for time per second, minute, & hours.\n",
        "60 seconds in minute,\n",
        "60 minutes in hour = 3600 seconds\n",
        "24 hours in a day = 86400 seconds\n",
        "15 days = 1296000 seconds\n",
        "seeking a app that counts down the days until an event.\n",
        "\"\"\""
      ],
      "metadata": {
        "id": "TBf3YpFTVC2I"
      },
      "execution_count": null,
      "outputs": []
    },
    {
      "cell_type": "code",
      "source": [
        "import time"
      ],
      "metadata": {
        "id": "oetOS4wNR0gK"
      },
      "execution_count": null,
      "outputs": []
    },
    {
      "cell_type": "code",
      "source": [
        "my_time = int(input(\"Enter the time in seconds (& click enter button):  \"))"
      ],
      "metadata": {
        "colab": {
          "base_uri": "https://localhost:8080/"
        },
        "id": "MkTAXxfdR21P",
        "outputId": "f00e95f9-acac-46bf-9458-9d29a9b7fda5"
      },
      "execution_count": null,
      "outputs": [
        {
          "name": "stdout",
          "output_type": "stream",
          "text": [
            "Enter the time in seconds (& click enter button):  1296000\n"
          ]
        }
      ]
    },
    {
      "cell_type": "code",
      "source": [
        "for x in range (my_time, 0, -1):\n",
        "  #seconds = x % 60\n",
        "  #minutes = int(x / 60) % 60\n",
        "  #hours = int( x / 3600)\n",
        "  days = int( x / 86400) % 86400\n",
        "  #print(f\"{hours:02}:{minutes:02}:{seconds:02} per day {days: }\")\n",
        "  print(f\"{days: } days\")\n",
        "  time.sleep(84600)\n",
        "\n",
        "print(\"TIME'S UP! TODAY IS THE DAY!!\")"
      ],
      "metadata": {
        "id": "f51slfUKSAXa"
      },
      "execution_count": null,
      "outputs": []
    }
  ]
}